{
  "nbformat": 4,
  "nbformat_minor": 0,
  "metadata": {
    "colab": {
      "provenance": [],
      "collapsed_sections": []
    },
    "kernelspec": {
      "name": "python3",
      "display_name": "Python 3"
    },
    "language_info": {
      "name": "python"
    }
  },
  "cells": [
    {
      "cell_type": "code",
      "source": [
        "import re \n",
        "import numpy as np\n",
        "from PIL import Image\n",
        "print(\"Huffman Compression Program\")\n",
        "print(\"=================================================================\")"
      ],
      "metadata": {
        "id": "lzTSHBNe_zuj",
        "colab": {
          "base_uri": "https://localhost:8080/"
        },
        "outputId": "ad7f4554-8f31-4f9c-bdfb-4e40ce6d5221"
      },
      "execution_count": null,
      "outputs": [
        {
          "output_type": "stream",
          "name": "stdout",
          "text": [
            "Huffman Compression Program\n",
            "=================================================================\n"
          ]
        }
      ]
    },
    {
      "cell_type": "code",
      "source": [
        "# taking user input\n",
        "h = int(input(\"Enter 1 if you want to input an colour image file, 2 for default gray scale case:\"))\n",
        "if h == 1:\n",
        "    file = input(\"Enter the filename:\")\n",
        "    my_string = np.asarray(Image.open(file),np.uint8)\n",
        "    shape = my_string.shape\n",
        "    a = my_string\n",
        "    print (\"Enetered string is:\",my_string)\n",
        "    my_string = str(my_string.tolist())\n",
        "elif h == 2:\n",
        "    array = np.arange(0, 737280, 1, np.uint8)\n",
        "    my_string = np.reshape(array, (1024, 720))\n",
        "    print (\"Enetered string is:\",my_string)\n",
        "    a = my_string\n",
        "    my_string = str(my_string.tolist())\n",
        "\n",
        "else:\n",
        "    print(\"You entered invalid input\")   \n",
        "#frequency of each letter repetition\n",
        "letters = []\n",
        "only_letters = []\n",
        "for letter in my_string:\n",
        "    if letter not in letters:\n",
        "        frequency = my_string.count(letter)             \n",
        "        letters.append(frequency)\n",
        "        letters.append(letter)\n",
        "        only_letters.append(letter)"
      ],
      "metadata": {
        "colab": {
          "base_uri": "https://localhost:8080/"
        },
        "id": "0emLUk4uB5fp",
        "outputId": "6c5e522d-1878-4940-afbd-2cdd7113e8b2"
      },
      "execution_count": null,
      "outputs": [
        {
          "output_type": "stream",
          "name": "stdout",
          "text": [
            "Enter 1 if you want to input an colour image file, 2 for default gray scale case:1\n",
            "Enter the filename:deepak.jpeg\n",
            "Enetered string is: [[[ 32  24  21]\n",
            "  [ 10   2   0]\n",
            "  [ 30  22  20]\n",
            "  ...\n",
            "  [ 24  15  16]\n",
            "  [ 11   2   3]\n",
            "  [ 25  17  15]]\n",
            "\n",
            " [[ 10   2   0]\n",
            "  [  7   0   0]\n",
            "  [ 54  46  44]\n",
            "  ...\n",
            "  [ 49  40  41]\n",
            "  [  6   0   0]\n",
            "  [ 13   5   3]]\n",
            "\n",
            " [[ 28  20  18]\n",
            "  [ 49  41  39]\n",
            "  [207 199 197]\n",
            "  ...\n",
            "  [192 182 183]\n",
            "  [ 49  39  40]\n",
            "  [ 23  13  12]]\n",
            "\n",
            " ...\n",
            "\n",
            " [[ 19  10  15]\n",
            "  [ 39  30  35]\n",
            "  [216 205 211]\n",
            "  ...\n",
            "  [201 191 190]\n",
            "  [ 49  41  39]\n",
            "  [ 19  11   9]]\n",
            "\n",
            " [[ 10   1   4]\n",
            "  [  6   0   0]\n",
            "  [ 52  43  46]\n",
            "  ...\n",
            "  [ 44  34  33]\n",
            "  [  6   0   0]\n",
            "  [  6   0   0]]\n",
            "\n",
            " [[ 19  10  11]\n",
            "  [ 11   2   3]\n",
            "  [ 20  11  12]\n",
            "  ...\n",
            "  [ 22  14  12]\n",
            "  [ 15   7   5]\n",
            "  [ 18  10   8]]]\n"
          ]
        }
      ]
    },
    {
      "cell_type": "code",
      "source": [
        "# sorting according to frequency\n",
        "nodes = []\n",
        "while len(letters) > 0:\n",
        "    nodes.append(letters[0:2])\n",
        "    letters = letters[2:]                              \n",
        "nodes.sort()\n",
        "\n",
        "#Make each unique character as a leaf node\n",
        "huffman_tree = []\n",
        "huffman_tree.append(nodes)   "
      ],
      "metadata": {
        "id": "2qY58-UtB-nr"
      },
      "execution_count": null,
      "outputs": []
    },
    {
      "cell_type": "code",
      "source": [
        "def combine_nodes(nodes):\n",
        "    pos = 0\n",
        "    newnode = []\n",
        "    if len(nodes) > 1:\n",
        "        nodes.sort()\n",
        "        # assigning values 1 and 0\n",
        "        nodes[pos].append(\"1\")                       \n",
        "        nodes[pos+1].append(\"0\")\n",
        "        # combining the nodes to generate pathways\n",
        "        combined_node1 = (nodes[pos] [0] + nodes[pos+1] [0])\n",
        "        combined_node2 = (nodes[pos] [1] + nodes[pos+1] [1])  \n",
        "        newnode.append(combined_node1)\n",
        "        newnode.append(combined_node2)\n",
        "        newnodes=[]\n",
        "        newnodes.append(newnode)\n",
        "        newnodes = newnodes + nodes[2:]\n",
        "        nodes = newnodes\n",
        "        huffman_tree.append(nodes)\n",
        "        combine_nodes(nodes)\n",
        "    return huffman_tree       "
      ],
      "metadata": {
        "id": "G-RQvBl3CUHH"
      },
      "execution_count": null,
      "outputs": []
    },
    {
      "cell_type": "code",
      "source": [
        "# huffman tree generation\n",
        "newnodes = combine_nodes(nodes)\n",
        "\n",
        "huffman_tree.sort(reverse = True)\n",
        "print(\"Huffman tree with merged pathways:\")\n",
        "\n",
        "checklist = []\n",
        "for level in huffman_tree:\n",
        "    for node in level:\n",
        "        if node not in checklist:\n",
        "            checklist.append(node)\n",
        "        else:\n",
        "            level.remove(node)\n",
        "count = 0\n",
        "for level in huffman_tree:\n",
        "    print(\"Level\", count,\":\",level)             #print huffman tree\n",
        "    count+=1\n",
        "print()\n",
        "\n",
        "letter_binary = []\n",
        "if len(only_letters) == 1:\n",
        "    lettercode = [only_letters[0], \"0\"]\n",
        "    letter_binary.append(letter_code*len(my_string))\n",
        "else:\n",
        "    for letter in only_letters:\n",
        "        code =\"\"\n",
        "        for node in checklist:\n",
        "            if len (node)>2 and letter in node[1]:           #genrating binary code\n",
        "                code = code + node[2]\n",
        "        lettercode =[letter,code]\n",
        "        letter_binary.append(lettercode)\n",
        "print(letter_binary)\n",
        "print(\"Binary code generated:\")\n",
        "for letter in letter_binary:\n",
        "    print(letter[0], letter[1])"
      ],
      "metadata": {
        "colab": {
          "base_uri": "https://localhost:8080/"
        },
        "id": "kAEMPrgXCnsL",
        "outputId": "8a084373-c225-49c9-ca90-e69538e7c80f"
      },
      "execution_count": null,
      "outputs": [
        {
          "output_type": "stream",
          "name": "stdout",
          "text": [
            "Huffman tree with merged pathways:\n",
            "Level 0 : [[2507582, '28049671[]53 ,']]\n",
            "Level 1 : [[970497, '28049671', '1'], [1537085, '[]53 ,', '0']]\n",
            "Level 2 : [[629887, '[]53', '1'], [907198, ' ,', '0']]\n",
            "Level 3 : [[459510, '2', '1'], [510987, '8049671', '0'], [907198, ' ,', '0']]\n",
            "Level 4 : [[453599, ' ', '1'], [453599, ',', '0'], [510987, '8049671', '0']]\n",
            "Level 5 : [[303242, '[]', '1'], [326645, '53', '0'], [453599, ',', '0'], [510987, '8049671', '0']]\n",
            "Level 6 : [[233239, '804', '1'], [277748, '9671', '0'], [326645, '53', '0'], [453599, ',', '0']]\n",
            "Level 7 : [[162314, '5', '1'], [164331, '3', '0'], [277748, '9671', '0'], [453599, ' ', '1'], [459510, '2', '1']]\n",
            "Level 8 : [[151621, '[', '1'], [151621, ']', '0'], [164331, '3', '0'], [277748, '9671', '0'], [453599, ',', '0']]\n",
            "Level 9 : [[136499, '967', '1'], [141249, '1', '0'], [151621, ']', '0'], [164331, '3', '0'], [453599, ' ', '1'], [459510, '2', '1']]\n",
            "Level 10 : [[103441, '80', '1'], [129798, '4', '0'], [141249, '1', '0'], [151621, ']', '0'], [164331, '3', '0'], [453599, ',', '0']]\n",
            "Level 11 : [[53085, '9', '1'], [83414, '67', '0'], [129798, '4', '0'], [151621, '[', '1'], [162314, '5', '1'], [453599, ' ', '1'], [459510, '2', '1']]\n",
            "Level 12 : [[51224, '8', '1'], [52217, '0', '0'], [83414, '67', '0'], [141249, '1', '0'], [151621, ']', '0'], [164331, '3', '0'], [453599, ',', '0']]\n",
            "Level 13 : [[41291, '6', '1'], [42123, '7', '0'], [52217, '0', '0'], [129798, '4', '0'], [151621, '[', '1'], [162314, '5', '1'], [453599, ' ', '1'], [459510, '2', '1']]\n",
            "\n",
            "[['[', '0111'], ['3', '0100'], ['2', '11'], [',', '000'], [' ', '001'], ['4', '1010'], ['1', '1000'], [']', '0110'], ['0', '10110'], ['8', '10111'], ['7', '100100'], ['9', '10011'], ['6', '100101'], ['5', '0101']]\n",
            "Binary code generated:\n",
            "[ 0111\n",
            "3 0100\n",
            "2 11\n",
            ", 000\n",
            "  001\n",
            "4 1010\n",
            "1 1000\n",
            "] 0110\n",
            "0 10110\n",
            "8 10111\n",
            "7 100100\n",
            "9 10011\n",
            "6 100101\n",
            "5 0101\n"
          ]
        }
      ]
    },
    {
      "cell_type": "code",
      "source": [
        "# binary code generated\n",
        "bitstring =\"\"\n",
        "for character in my_string:\n",
        "    for item in letter_binary:\n",
        "        if character in item:\n",
        "            bitstring = bitstring + item[1]\n",
        "binary =\"0b\"+bitstring\n",
        "print(\"Your message as binary is:\")\n",
        "uncompressed_file_size = len(my_string)*7\n",
        "compressed_file_size = len(binary)-2\n",
        "print(\"Your original file size was\", uncompressed_file_size,\"bits. The compressed size is:\",compressed_file_size)\n",
        "print(\"This is a saving of \",uncompressed_file_size-compressed_file_size,\"bits\")\n",
        "output = open(\"uncompressed.txt\",'w+')\n",
        "print(\"unCompressed file generated as uncompressed.txt\")\n",
        "output = open(\"uncompressed.txt\",'w+')\n",
        "print(\"Decoding.......\")\n",
        "output.write(bitstring)"
      ],
      "metadata": {
        "colab": {
          "base_uri": "https://localhost:8080/"
        },
        "id": "qi8JWc85C0_P",
        "outputId": "3bee74bf-512c-4575-c716-1bb036874a65"
      },
      "execution_count": null,
      "outputs": [
        {
          "output_type": "stream",
          "name": "stdout",
          "text": [
            "Your message as binary is:\n",
            "Your original file size was 17553074 bits. The compressed size is: 8527464\n",
            "This is a saving of  9025610 bits\n",
            "unCompressed file generated as uncompressed.txt\n",
            "Decoding.......\n"
          ]
        },
        {
          "output_type": "execute_result",
          "data": {
            "text/plain": [
              "8527464"
            ]
          },
          "metadata": {},
          "execution_count": 6
        }
      ]
    },
    {
      "cell_type": "code",
      "source": [
        "bitstring = str(binary[2:])\n",
        "compressed_string =\"\"\n",
        "code =\"\"\n",
        "for digit in bitstring:\n",
        "    code = code+digit\n",
        "    pos=0                                        #iterating and decoding\n",
        "    for letter in letter_binary:\n",
        "        if code ==letter[1]:\n",
        "            compressed_string=compressed_string+letter_binary[pos] [0]\n",
        "            code=\"\"\n",
        "        pos+=1\n",
        "\n"
      ],
      "metadata": {
        "id": "ACOI4AO4DEQn"
      },
      "execution_count": null,
      "outputs": []
    },
    {
      "cell_type": "code",
      "source": [
        "print(\"Your COMPRESSED data is:\")\n",
        "if h == 1:\n",
        "    temp = re.findall(r'\\d+', compressed_string)\n",
        "    res = list(map(int, temp))\n",
        "    res = np.array(res)\n",
        "    res = res.astype(np.uint8)\n",
        "    res = np.reshape(res, shape)\n",
        "    print(res)\n",
        "    print(\"Observe the shapes and input and output arrays are matching or not\")\n",
        "    print(\"Input image dimensions:\",shape)\n",
        "    print(\"Output image dimensions:\",res.shape)\n",
        "    data = Image.fromarray(res)\n",
        "    data.save('compressed.jpeg')\n",
        "    if a.all() == res.all():\n",
        "        print(\"Success\")\n",
        "if h == 2:\n",
        "    temp = re.findall(r'\\d+', compressed_string)\n",
        "    res = list(map(int, temp))\n",
        "    print(res)\n",
        "    res = np.array(res)\n",
        "    res = res.astype(np.uint8)\n",
        "    res = np.reshape(res, (420,340))\n",
        "    print(res)\n",
        "    data = Image.fromarray(res)\n",
        "    data.save('compressed.jpeg')\n",
        "    print(\"Success\")"
      ],
      "metadata": {
        "colab": {
          "base_uri": "https://localhost:8080/"
        },
        "id": "cSjF1Ui8DOIY",
        "outputId": "39413dc6-48f0-439f-b1e1-f1f7e7e53ac2"
      },
      "execution_count": null,
      "outputs": [
        {
          "output_type": "stream",
          "name": "stdout",
          "text": [
            "Your COMPRESSED data is:\n",
            "[[[ 32  24  21]\n",
            "  [ 10   2   0]\n",
            "  [ 30  22  20]\n",
            "  ...\n",
            "  [ 24  15  16]\n",
            "  [ 11   2   3]\n",
            "  [ 25  17  15]]\n",
            "\n",
            " [[ 10   2   0]\n",
            "  [  7   0   0]\n",
            "  [ 54  46  44]\n",
            "  ...\n",
            "  [ 49  40  41]\n",
            "  [  6   0   0]\n",
            "  [ 13   5   3]]\n",
            "\n",
            " [[ 28  20  18]\n",
            "  [ 49  41  39]\n",
            "  [207 199 197]\n",
            "  ...\n",
            "  [192 182 183]\n",
            "  [ 49  39  40]\n",
            "  [ 23  13  12]]\n",
            "\n",
            " ...\n",
            "\n",
            " [[ 19  10  15]\n",
            "  [ 39  30  35]\n",
            "  [216 205 211]\n",
            "  ...\n",
            "  [201 191 190]\n",
            "  [ 49  41  39]\n",
            "  [ 19  11   9]]\n",
            "\n",
            " [[ 10   1   4]\n",
            "  [  6   0   0]\n",
            "  [ 52  43  46]\n",
            "  ...\n",
            "  [ 44  34  33]\n",
            "  [  6   0   0]\n",
            "  [  6   0   0]]\n",
            "\n",
            " [[ 19  10  11]\n",
            "  [ 11   2   3]\n",
            "  [ 20  11  12]\n",
            "  ...\n",
            "  [ 22  14  12]\n",
            "  [ 15   7   5]\n",
            "  [ 18  10   8]]]\n",
            "Observe the shapes and input and output arrays are matching or not\n",
            "Input image dimensions: (420, 360, 3)\n",
            "Output image dimensions: (420, 360, 3)\n",
            "Success\n"
          ]
        }
      ]
    }
  ]
}